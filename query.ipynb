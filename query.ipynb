{
 "cells": [
  {
   "cell_type": "code",
   "execution_count": 1,
   "id": "f0852e33",
   "metadata": {},
   "outputs": [],
   "source": [
    "import cohere\n",
    "import pandas as pd\n",
    "from pinecone import Pinecone\n",
    "import os"
   ]
  },
  {
   "cell_type": "code",
   "execution_count": 2,
   "id": "66a3f4ec",
   "metadata": {},
   "outputs": [],
   "source": [
    "input_path = 'vector_version/GGrand Prairie ISD_Dual Credit Dallas College Grades- Initial Mapping.csv'"
   ]
  },
  {
   "cell_type": "code",
   "execution_count": 3,
   "id": "778f1d53",
   "metadata": {},
   "outputs": [],
   "source": [
    "from attempt3 import return_df\n",
    "\n",
    "test = return_df (input_path)"
   ]
  },
  {
   "cell_type": "code",
   "execution_count": 4,
   "id": "ba82ce73",
   "metadata": {},
   "outputs": [
    {
     "name": "stdout",
     "output_type": "stream",
     "text": [
      "                 Field                                        Description  \\\n",
      "0            PERSON_ID  0           Unique identifier for the student ...   \n",
      "1              HS_NAME  0           Unique identifier for the student ...   \n",
      "2                  ISD  0           Unique identifier for the student ...   \n",
      "3            LAST_NAME  0           Unique identifier for the student ...   \n",
      "4           FIRST_NAME  0           Unique identifier for the student ...   \n",
      "5        ADDRESS_LINE1  0           Unique identifier for the student ...   \n",
      "6        ADDRESS_LINE2  0           Unique identifier for the student ...   \n",
      "7                 CITY  0           Unique identifier for the student ...   \n",
      "8             STATE_CD  0           Unique identifier for the student ...   \n",
      "9                  ZIP  0           Unique identifier for the student ...   \n",
      "10            BIRTHDAY  0           Unique identifier for the student ...   \n",
      "11                TERM  0           Unique identifier for the student ...   \n",
      "12  TOT_CRH_AFTER_DROP  0           Unique identifier for the student ...   \n",
      "13            DC_DESCR  0           Unique identifier for the student ...   \n",
      "14             WAIVER?  0           Unique identifier for the student ...   \n",
      "15            LOC_NAME  0           Unique identifier for the student ...   \n",
      "16   HS_INSTITUTION_ID  0           Unique identifier for the student ...   \n",
      "\n",
      "              edfi_entity            edfi_attribute  \n",
      "0                 Student           StudentUniqueId  \n",
      "1                  School         NameOfInstitution  \n",
      "2   EducationOrganization         NameOfInstitution  \n",
      "3                 Student               LastSurname  \n",
      "4                 Student                 FirstName  \n",
      "5                 Address          StreetNumberName  \n",
      "6                 Address  ApartmentRoomSuiteNumber  \n",
      "7                 Address                      City  \n",
      "8                 Address         StateAbbreviation  \n",
      "9                 Address                PostalCode  \n",
      "10                Student                 BirthDate  \n",
      "11                Session            TermDescriptor  \n",
      "12                    n/a                       n/a  \n",
      "13                    n/a                       n/a  \n",
      "14                    n/a                       n/a  \n",
      "15                 School         NameOfInstitution  \n",
      "16                 School                  SchoolId  \n"
     ]
    }
   ],
   "source": [
    "print(test[0:20])"
   ]
  },
  {
   "cell_type": "code",
   "execution_count": 5,
   "id": "72623c0d",
   "metadata": {},
   "outputs": [
    {
     "name": "stdout",
     "output_type": "stream",
     "text": [
      "Empty DataFrame\n",
      "Columns: [Field, Description, edfi_entity, edfi_attribute]\n",
      "Index: []\n"
     ]
    }
   ],
   "source": [
    "ccmr = test[test.isna().any(axis=1)]\n",
    "print(ccmr)"
   ]
  },
  {
   "cell_type": "code",
   "execution_count": 6,
   "id": "43e6fca0",
   "metadata": {},
   "outputs": [],
   "source": [
    "# ccmr = pd.read_csv('vector_version/GGrand Prairie ISD_Dual Credit Dallas College Grades- Initial Mapping.csv')"
   ]
  },
  {
   "cell_type": "code",
   "execution_count": 7,
   "id": "b374a751",
   "metadata": {},
   "outputs": [
    {
     "data": {
      "text/html": [
       "<div>\n",
       "<style scoped>\n",
       "    .dataframe tbody tr th:only-of-type {\n",
       "        vertical-align: middle;\n",
       "    }\n",
       "\n",
       "    .dataframe tbody tr th {\n",
       "        vertical-align: top;\n",
       "    }\n",
       "\n",
       "    .dataframe thead th {\n",
       "        text-align: right;\n",
       "    }\n",
       "</style>\n",
       "<table border=\"1\" class=\"dataframe\">\n",
       "  <thead>\n",
       "    <tr style=\"text-align: right;\">\n",
       "      <th></th>\n",
       "      <th>Field</th>\n",
       "      <th>Description</th>\n",
       "      <th>edfi_entity</th>\n",
       "      <th>edfi_attribute</th>\n",
       "    </tr>\n",
       "  </thead>\n",
       "  <tbody>\n",
       "  </tbody>\n",
       "</table>\n",
       "</div>"
      ],
      "text/plain": [
       "Empty DataFrame\n",
       "Columns: [Field, Description, edfi_entity, edfi_attribute]\n",
       "Index: []"
      ]
     },
     "execution_count": 7,
     "metadata": {},
     "output_type": "execute_result"
    }
   ],
   "source": [
    "ccmr.head()"
   ]
  },
  {
   "cell_type": "code",
   "execution_count": 8,
   "id": "f5d83b3e",
   "metadata": {},
   "outputs": [],
   "source": [
    "co = cohere.BedrockClient(\n",
    "    aws_region=\"us-east-1\",\n",
    "    aws_access_key=os.environ[\"AWS_ACCESS_KEY_ID\"],\n",
    "    aws_secret_key=os.environ[\"AWS_SECRET_ACCESS_KEY\"],\n",
    "    aws_session_token=os.environ[\"AWS_SESSION_TOKEN\"],\n",
    ")"
   ]
  },
  {
   "cell_type": "code",
   "execution_count": 9,
   "id": "9281af60",
   "metadata": {},
   "outputs": [],
   "source": [
    "def get_cohere_embedding(texts, cohere_client = co, model_id=\"cohere.embed-english-v3\", input_type=\"search_query\", truncate=\"NONE\"):\n",
    "    \"\"\"\n",
    "    Generate embeddings for a list of texts using Cohere BedrockClient.\n",
    "    Returns a list of embeddings.\n",
    "    \"\"\"\n",
    "    response = cohere_client.embed(\n",
    "        model=model_id,\n",
    "        input_type=input_type,\n",
    "        texts=texts,\n",
    "        truncate=truncate,\n",
    "    )\n",
    "    return response.embeddings"
   ]
  },
  {
   "cell_type": "code",
   "execution_count": 10,
   "id": "d00f7a63",
   "metadata": {},
   "outputs": [],
   "source": [
    "def pinecone_search(index, embedding, top_k=3, include_metadata=True, include_values=False, namespace=None):\n",
    "    \"\"\"\n",
    "    Search Pinecone index with a given embedding.\n",
    "    Returns the query result.\n",
    "    \"\"\"\n",
    "    return index.query(\n",
    "        vector=embedding,\n",
    "        top_k=top_k,\n",
    "        include_metadata=include_metadata,\n",
    "        include_values=include_values,\n",
    "        namespace=namespace\n",
    "    )"
   ]
  },
  {
   "cell_type": "code",
   "execution_count": 11,
   "id": "6454b220",
   "metadata": {},
   "outputs": [
    {
     "name": "stderr",
     "output_type": "stream",
     "text": [
      "/home/leapfrog/.virtualenvs/map/lib/python3.10/site-packages/tqdm/auto.py:21: TqdmWarning: IProgress not found. Please update jupyter and ipywidgets. See https://ipywidgets.readthedocs.io/en/stable/user_install.html\n",
      "  from .autonotebook import tqdm as notebook_tqdm\n"
     ]
    }
   ],
   "source": [
    "pc = Pinecone(api_key=os.environ[\"PINECONE_API_KEY\"])\n",
    "index = pc.Index(\"eduphoric-map\") "
   ]
  },
  {
   "cell_type": "code",
   "execution_count": 12,
   "id": "4a0b0da3",
   "metadata": {},
   "outputs": [],
   "source": [
    "ccmr[\"Field\"] = ccmr[\"Field\"].fillna(\"\").astype(str)\n",
    "ccmr[\"Description\"] = ccmr[\"Description\"].fillna(\"\").astype(str)"
   ]
  },
  {
   "cell_type": "code",
   "execution_count": 13,
   "id": "0d8df566",
   "metadata": {},
   "outputs": [],
   "source": [
    "ccmr['before_vector'] = (\n",
    "    \"Field: \" + ccmr['Field'] + \"\\n\" +\n",
    "    \"Description: \" + ccmr['Description']\n",
    ")"
   ]
  },
  {
   "cell_type": "code",
   "execution_count": 14,
   "id": "97d4f038",
   "metadata": {},
   "outputs": [],
   "source": [
    "# ccmr.iloc[5]['before_vector']"
   ]
  },
  {
   "cell_type": "code",
   "execution_count": 15,
   "id": "e7d09564",
   "metadata": {},
   "outputs": [],
   "source": [
    "texts = ccmr[\"before_vector\"].tolist()"
   ]
  },
  {
   "cell_type": "code",
   "execution_count": 16,
   "id": "d28e13e1",
   "metadata": {},
   "outputs": [],
   "source": [
    "batch_size = 20\n",
    "all_embeddings = []"
   ]
  },
  {
   "cell_type": "code",
   "execution_count": 17,
   "id": "a28b23e5",
   "metadata": {},
   "outputs": [],
   "source": [
    "for i in range(0, len(texts), batch_size):\n",
    "    batch = texts[i:i+batch_size]\n",
    "    embeddings = get_cohere_embedding(batch, co)\n",
    "    all_embeddings.extend(embeddings)\n",
    "\n",
    "ccmr[\"vector\"] = all_embeddings"
   ]
  },
  {
   "cell_type": "code",
   "execution_count": 18,
   "id": "251b211d",
   "metadata": {},
   "outputs": [],
   "source": [
    "# ccmr.iloc[8]"
   ]
  },
  {
   "cell_type": "code",
   "execution_count": 19,
   "id": "3f0c9dc6",
   "metadata": {},
   "outputs": [],
   "source": [
    "def process_pinecone_matches(pinecone_results) -> str:\n",
    "    \"\"\"\n",
    "    Process Pinecone search results to extract relevant information.\n",
    "    Returns string with field, score, table name, table description, column name, column description, data type for each match.\n",
    "    \"\"\"\n",
    "    result_str = \"\"\n",
    "    for match in pinecone_results:\n",
    "        field = match[\"field\"]\n",
    "        for pinecone_match in match[\"pinecone_matches\"]:\n",
    "            score = pinecone_match[\"score\"]\n",
    "            metadata = pinecone_match[\"metadata\"]\n",
    "            table_name = metadata.get(\"table_name\", \"N/A\")\n",
    "            table_description = metadata.get(\"table_description\", \"N/A\")\n",
    "            column_name = metadata.get(\"column_name\", \"N/A\")\n",
    "            column_description = metadata.get(\"column_description\", \"N/A\")\n",
    "            data_type = metadata.get(\"data_type\", \"N/A\")\n",
    "\n",
    "            result_str += (\n",
    "                f\"Field: {field}, Match Score: {score}\\n\"\n",
    "                f\"Table: {table_name}, Description: {table_description}\\n\"\n",
    "                f\"Column: {column_name}, Description: {column_description}, Data Type: {data_type}\\n\\n\"\n",
    "            )\n",
    "    return result_str"
   ]
  },
  {
   "cell_type": "code",
   "execution_count": 20,
   "id": "393800e7",
   "metadata": {},
   "outputs": [],
   "source": [
    "from utils import df_to_markdown_table, parse_llm_response_method, results_to_dataframe"
   ]
  },
  {
   "cell_type": "code",
   "execution_count": 21,
   "id": "4193c8ba",
   "metadata": {},
   "outputs": [],
   "source": [
    "import boto3\n",
    "runtime = boto3.client(\"bedrock-runtime\")"
   ]
  },
  {
   "cell_type": "code",
   "execution_count": 22,
   "id": "d0e782bf",
   "metadata": {},
   "outputs": [],
   "source": [
    "batch_size = 3\n",
    "\n",
    "results = []\n",
    "\n",
    "for i in range(0, len(ccmr), batch_size):\n",
    "    batch = ccmr.iloc[i:i+batch_size]\n",
    "    fields = batch[\"Field\"].tolist()\n",
    "    vectors = batch[\"vector\"].tolist()\n",
    "    \n",
    "    pinecone_results = []\n",
    "    for field, vector in zip(fields, vectors):\n",
    "        query_result = pinecone_search(index, vector, top_k=5, include_metadata=True)\n",
    "        pinecone_results.append({\n",
    "            \"field\": field,\n",
    "            \"pinecone_matches\": query_result[\"matches\"]\n",
    "        })\n",
    "    \n",
    "    findings = process_pinecone_matches(pinecone_results)\n",
    "\n",
    "    \n",
    "    prompt = f\"\"\"\n",
    "    You are an edfi data standard v5.2 expert. You will be given a table that has a field name, its description, sample, notes. \n",
    "    Your job is to map every field to an edfi attribute and edfi entity with its reasoning.\n",
    "    You will be given some possible matches from the edfi data standard.\n",
    "    if you are not confident about the match, leave the field as \"n/a\"\n",
    "\n",
    "    Create a output list of dicts with keys \"field\", \"edfi_entity\", \"edfi_attribute\", \"reasoning\".\n",
    "    The reasoning should be a short explanation of why you chose the edfi entity and attribute.\n",
    "\n",
    "    Example output format:\n",
    "    [\n",
    "        {{\"field\": \"ACT ID\", \"edfi_entity\": \"n/a\", \"edfi_attribute\": n/a\"}},\n",
    "        {{\"field\": \"Last Name\", \"edfi_entity\": \"Student\", \"edfi_attribute\": \"LastSurname\"}},\n",
    "        {{\"field\": \"First Name\", \"edfi_entity\": \"Student\", \"edfi_attribute\": \"FirstName\"}}\n",
    "    ]\n",
    "\n",
    "    Here is the table:\n",
    "    {df_to_markdown_table(batch)}\n",
    "\n",
    "    Here are the possible matches:\n",
    "    {findings}\n",
    "    \"\"\"\n",
    "\n",
    "    response = response = runtime.converse(\n",
    "        modelId=\"arn:aws:bedrock:us-east-1:654654390449:application-inference-profile/xjq2nc32nzby\",\n",
    "        messages=[\n",
    "            {\"role\": \"user\", \"content\": [{\"text\": prompt}]}\n",
    "        ]\n",
    "    )\n",
    "    parsed_reponse = parse_llm_response_method(response[\"output\"][\"message\"][\"content\"][0][\"text\"])\n",
    "    results.extend(parsed_reponse)"
   ]
  },
  {
   "cell_type": "code",
   "execution_count": 23,
   "id": "db55a908",
   "metadata": {},
   "outputs": [],
   "source": [
    "out = results_to_dataframe(results,ccmr)"
   ]
  },
  {
   "cell_type": "code",
   "execution_count": 24,
   "id": "644f43b2",
   "metadata": {},
   "outputs": [],
   "source": [
    "# Remove rows with NaN from df\n",
    "df_no_nan = test.dropna()\n",
    "\n",
    "# Combine with the cleaned ccmr\n",
    "final_df = pd.concat([df_no_nan, ccmr], ignore_index=True)"
   ]
  },
  {
   "cell_type": "code",
   "execution_count": 25,
   "id": "2d21b6a6",
   "metadata": {},
   "outputs": [],
   "source": [
    "final_df.to_csv('vector_version/ensemble.csv', index=False)"
   ]
  }
 ],
 "metadata": {
  "kernelspec": {
   "display_name": "map",
   "language": "python",
   "name": "python3"
  },
  "language_info": {
   "codemirror_mode": {
    "name": "ipython",
    "version": 3
   },
   "file_extension": ".py",
   "mimetype": "text/x-python",
   "name": "python",
   "nbconvert_exporter": "python",
   "pygments_lexer": "ipython3",
   "version": "3.10.12"
  }
 },
 "nbformat": 4,
 "nbformat_minor": 5
}
