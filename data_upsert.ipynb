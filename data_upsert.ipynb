{
 "cells": [
  {
   "cell_type": "code",
   "execution_count": 2,
   "id": "8152612b",
   "metadata": {},
   "outputs": [],
   "source": [
    "import pandas as pd\n",
    "import psycopg2\n",
    "from dotenv import load_dotenv\n",
    "import os\n",
    "import boto3"
   ]
  },
  {
   "cell_type": "code",
   "execution_count": 2,
   "id": "4b57b2e3",
   "metadata": {},
   "outputs": [
    {
     "data": {
      "text/plain": [
       "True"
      ]
     },
     "execution_count": 2,
     "metadata": {},
     "output_type": "execute_result"
    }
   ],
   "source": [
    "load_dotenv()"
   ]
  },
  {
   "cell_type": "code",
   "execution_count": 3,
   "id": "5c05e44a",
   "metadata": {},
   "outputs": [],
   "source": [
    "QUERY = \"\"\"\n",
    "SELECT\n",
    "  c.table_name,\n",
    "  obj_description(cls.oid) AS table_comment,\n",
    "  c.column_name,\n",
    "  pgd.description AS column_comment,\n",
    "  c.data_type\n",
    "FROM\n",
    "  information_schema.columns c\n",
    "JOIN\n",
    "  pg_catalog.pg_class cls ON cls.relname = c.table_name\n",
    "    AND cls.relkind = 'r'\n",
    "LEFT JOIN\n",
    "  pg_catalog.pg_description pgd ON pgd.objoid = cls.oid AND pgd.objsubid = c.ordinal_position\n",
    "WHERE\n",
    "  c.table_schema NOT IN ('pg_catalog', 'information_schema')\n",
    "ORDER BY\n",
    "  c.table_schema,\n",
    "  c.table_name,\n",
    "  c.ordinal_position;\n",
    "\"\"\""
   ]
  },
  {
   "cell_type": "code",
   "execution_count": 4,
   "id": "21b74cd0",
   "metadata": {},
   "outputs": [],
   "source": [
    "conn = psycopg2.connect(\n",
    "            host=os.environ[\"DB_HOST\"],\n",
    "            port=os.environ[\"DB_PORT\"],\n",
    "            dbname=os.environ[\"DB_NAME\"],\n",
    "            user=os.environ[\"DB_USER\"],\n",
    "            password=os.environ[\"DB_PASS\"]\n",
    "        )"
   ]
  },
  {
   "cell_type": "code",
   "execution_count": 5,
   "id": "53c8c189",
   "metadata": {},
   "outputs": [
    {
     "name": "stderr",
     "output_type": "stream",
     "text": [
      "/tmp/ipykernel_19010/2469420858.py:1: UserWarning: pandas only supports SQLAlchemy connectable (engine/connection) or database string URI or sqlite3 DBAPI2 connection. Other DBAPI2 objects are not tested. Please consider using SQLAlchemy.\n",
      "  df = pd.read_sql_query(QUERY, conn)\n"
     ]
    }
   ],
   "source": [
    "df = pd.read_sql_query(QUERY, conn)"
   ]
  },
  {
   "cell_type": "code",
   "execution_count": 6,
   "id": "a860473e",
   "metadata": {},
   "outputs": [
    {
     "data": {
      "text/html": [
       "<div>\n",
       "<style scoped>\n",
       "    .dataframe tbody tr th:only-of-type {\n",
       "        vertical-align: middle;\n",
       "    }\n",
       "\n",
       "    .dataframe tbody tr th {\n",
       "        vertical-align: top;\n",
       "    }\n",
       "\n",
       "    .dataframe thead th {\n",
       "        text-align: right;\n",
       "    }\n",
       "</style>\n",
       "<table border=\"1\" class=\"dataframe\">\n",
       "  <thead>\n",
       "    <tr style=\"text-align: right;\">\n",
       "      <th></th>\n",
       "      <th>table_name</th>\n",
       "      <th>table_comment</th>\n",
       "      <th>column_name</th>\n",
       "      <th>column_comment</th>\n",
       "      <th>data_type</th>\n",
       "    </tr>\n",
       "  </thead>\n",
       "  <tbody>\n",
       "    <tr>\n",
       "      <th>0</th>\n",
       "      <td>absenceeventcategorydescriptor</td>\n",
       "      <td>This descriptor describes the type of absence</td>\n",
       "      <td>absenceeventcategorydescriptorid</td>\n",
       "      <td>A unique identifier used as Primary Key, not d...</td>\n",
       "      <td>integer</td>\n",
       "    </tr>\n",
       "    <tr>\n",
       "      <th>1</th>\n",
       "      <td>academichonorcategorydescriptor</td>\n",
       "      <td>A designation of the type of academic distinct...</td>\n",
       "      <td>academichonorcategorydescriptorid</td>\n",
       "      <td>A unique identifier used as Primary Key, not d...</td>\n",
       "      <td>integer</td>\n",
       "    </tr>\n",
       "    <tr>\n",
       "      <th>2</th>\n",
       "      <td>academicsubjectdescriptor</td>\n",
       "      <td>This descriptor holds the description of the c...</td>\n",
       "      <td>academicsubjectdescriptorid</td>\n",
       "      <td>A unique identifier used as Primary Key, not d...</td>\n",
       "      <td>integer</td>\n",
       "    </tr>\n",
       "    <tr>\n",
       "      <th>3</th>\n",
       "      <td>academicweek</td>\n",
       "      <td>This entity represents the academic weeks for ...</td>\n",
       "      <td>schoolid</td>\n",
       "      <td>The identifier assigned to a school. It must b...</td>\n",
       "      <td>bigint</td>\n",
       "    </tr>\n",
       "    <tr>\n",
       "      <th>4</th>\n",
       "      <td>academicweek</td>\n",
       "      <td>This entity represents the academic weeks for ...</td>\n",
       "      <td>weekidentifier</td>\n",
       "      <td>The school label for the week.</td>\n",
       "      <td>character varying</td>\n",
       "    </tr>\n",
       "  </tbody>\n",
       "</table>\n",
       "</div>"
      ],
      "text/plain": [
       "                        table_name  \\\n",
       "0   absenceeventcategorydescriptor   \n",
       "1  academichonorcategorydescriptor   \n",
       "2        academicsubjectdescriptor   \n",
       "3                     academicweek   \n",
       "4                     academicweek   \n",
       "\n",
       "                                       table_comment  \\\n",
       "0      This descriptor describes the type of absence   \n",
       "1  A designation of the type of academic distinct...   \n",
       "2  This descriptor holds the description of the c...   \n",
       "3  This entity represents the academic weeks for ...   \n",
       "4  This entity represents the academic weeks for ...   \n",
       "\n",
       "                         column_name  \\\n",
       "0   absenceeventcategorydescriptorid   \n",
       "1  academichonorcategorydescriptorid   \n",
       "2        academicsubjectdescriptorid   \n",
       "3                           schoolid   \n",
       "4                     weekidentifier   \n",
       "\n",
       "                                      column_comment          data_type  \n",
       "0  A unique identifier used as Primary Key, not d...            integer  \n",
       "1  A unique identifier used as Primary Key, not d...            integer  \n",
       "2  A unique identifier used as Primary Key, not d...            integer  \n",
       "3  The identifier assigned to a school. It must b...             bigint  \n",
       "4                     The school label for the week.  character varying  "
      ]
     },
     "execution_count": 6,
     "metadata": {},
     "output_type": "execute_result"
    }
   ],
   "source": [
    "df.head()"
   ]
  },
  {
   "cell_type": "code",
   "execution_count": 7,
   "id": "4f054dab",
   "metadata": {},
   "outputs": [
    {
     "data": {
      "text/plain": [
       "4637"
      ]
     },
     "execution_count": 7,
     "metadata": {},
     "output_type": "execute_result"
    }
   ],
   "source": [
    "len(df)"
   ]
  },
  {
   "cell_type": "code",
   "execution_count": 37,
   "id": "c279feb7",
   "metadata": {},
   "outputs": [],
   "source": [
    "df[\"table_name\"] = df[\"table_name\"].fillna(\"\").astype(str)\n",
    "df[\"table_comment\"] = df[\"table_comment\"].fillna(\"\").astype(str)\n",
    "df[\"column_name\"] = df[\"column_name\"].fillna(\"\").astype(str)\n",
    "df[\"column_comment\"] = df[\"column_comment\"].fillna(\"\").astype(str)"
   ]
  },
  {
   "cell_type": "code",
   "execution_count": 38,
   "id": "a848158e",
   "metadata": {},
   "outputs": [],
   "source": [
    "df['before_vector'] = (\n",
    "    \"table_name: \" + df['table_name'] + \"\\n\" +\n",
    "    \"table_description: \" + df['table_comment'] + \"\\n\" +\n",
    "    \"column_name: \" + df['column_name'] + \"\\n\" +\n",
    "    \"column_description: \" + df['column_comment']\n",
    ")"
   ]
  },
  {
   "cell_type": "code",
   "execution_count": 39,
   "id": "3dc5e2c7",
   "metadata": {},
   "outputs": [
    {
     "name": "stdout",
     "output_type": "stream",
     "text": [
      "table_name: academicweek\n",
      "table_description: This entity represents the academic weeks for a school year, optionally captured to support analyses.\n",
      "column_name: discriminator\n",
      "column_description: \n"
     ]
    }
   ],
   "source": [
    "print(df.iloc[8][\"before_vector\"])"
   ]
  },
  {
   "cell_type": "code",
   "execution_count": 17,
   "id": "f287314e",
   "metadata": {},
   "outputs": [],
   "source": [
    "import cohere\n",
    "\n",
    "co = cohere.BedrockClient(\n",
    "    aws_region=\"us-east-1\",\n",
    "    aws_access_key=os.environ[\"AWS_ACCESS_KEY_ID\"],\n",
    "    aws_secret_key=os.environ[\"AWS_SECRET_ACCESS_KEY\"],\n",
    "    aws_session_token=os.environ[\"AWS_SESSION_TOKEN\"],\n",
    ")\n",
    "\n",
    "model_id = \"cohere.embed-english-v3\"\n",
    "input_type = \"search_document\"     \n",
    "truncate = \"NONE\""
   ]
  },
  {
   "cell_type": "code",
   "execution_count": 41,
   "id": "7a65d37d",
   "metadata": {},
   "outputs": [],
   "source": [
    "texts = df[\"before_vector\"].tolist() # turn texts into a list"
   ]
  },
  {
   "cell_type": "code",
   "execution_count": 28,
   "id": "645e68d9",
   "metadata": {},
   "outputs": [],
   "source": [
    "import time"
   ]
  },
  {
   "cell_type": "code",
   "execution_count": 45,
   "id": "a1d4d2b0",
   "metadata": {},
   "outputs": [],
   "source": [
    "batch_size = 20\n",
    "all_embeddings = []\n",
    "\n",
    "for i in range(0, len(texts), batch_size):\n",
    "    batch = texts[i:i+batch_size]\n",
    "    result = co.embed(\n",
    "        model=model_id,\n",
    "        input_type=input_type,\n",
    "        texts=batch,\n",
    "        truncate=truncate,\n",
    "    )\n",
    "    all_embeddings.extend(result.embeddings)\n",
    "    time.sleep(0.5)\n"
   ]
  },
  {
   "cell_type": "code",
   "execution_count": 46,
   "id": "f5544b48",
   "metadata": {},
   "outputs": [],
   "source": [
    "df[\"vector\"] = all_embeddings"
   ]
  },
  {
   "cell_type": "code",
   "execution_count": 47,
   "id": "64f9b3ac",
   "metadata": {},
   "outputs": [],
   "source": [
    "df[\"id\"] = df.index.astype(str)"
   ]
  },
  {
   "cell_type": "code",
   "execution_count": 48,
   "id": "0be74050",
   "metadata": {},
   "outputs": [],
   "source": [
    "metadata_columns = [\"table_name\", \"table_comment\", \"column_name\", \"column_comment\", \"data_type\"]\n",
    "df[\"metadata\"] = df[metadata_columns].to_dict(orient=\"records\")"
   ]
  },
  {
   "cell_type": "code",
   "execution_count": 49,
   "id": "208246d0",
   "metadata": {},
   "outputs": [
    {
     "name": "stdout",
     "output_type": "stream",
     "text": [
      "{'table_name': 'academicweek', 'table_comment': 'This entity represents the academic weeks for a school year, optionally captured to support analyses.', 'column_name': 'discriminator', 'column_comment': '', 'data_type': 'character varying'}\n"
     ]
    }
   ],
   "source": [
    "print(df.iloc[8][\"metadata\"])"
   ]
  },
  {
   "cell_type": "code",
   "execution_count": 50,
   "id": "1d81cfbc",
   "metadata": {},
   "outputs": [],
   "source": [
    "vectors = [\n",
    "    {\n",
    "        \"id\": row[\"id\"],\n",
    "        \"values\": row[\"vector\"],\n",
    "        \"metadata\": row[\"metadata\"]\n",
    "    }\n",
    "    for _, row in df.iterrows()\n",
    "]"
   ]
  },
  {
   "cell_type": "code",
   "execution_count": 54,
   "id": "34c1e9bd",
   "metadata": {},
   "outputs": [
    {
     "data": {
      "text/plain": [
       "1024"
      ]
     },
     "execution_count": 54,
     "metadata": {},
     "output_type": "execute_result"
    }
   ],
   "source": [
    "len(vectors[1][\"values\"])"
   ]
  },
  {
   "cell_type": "code",
   "execution_count": 3,
   "id": "6c71d17f",
   "metadata": {},
   "outputs": [
    {
     "name": "stderr",
     "output_type": "stream",
     "text": [
      "/home/leapfrog/.virtualenvs/map/lib/python3.10/site-packages/tqdm/auto.py:21: TqdmWarning: IProgress not found. Please update jupyter and ipywidgets. See https://ipywidgets.readthedocs.io/en/stable/user_install.html\n",
      "  from .autonotebook import tqdm as notebook_tqdm\n"
     ]
    }
   ],
   "source": [
    "from pinecone import Pinecone\n",
    "\n",
    "pc = Pinecone(api_key=os.environ[\"PINECONE_API_KEY\"])\n",
    "index = pc.Index(\"eduphoric-map\")  "
   ]
  },
  {
   "cell_type": "code",
   "execution_count": 57,
   "id": "85effc6a",
   "metadata": {},
   "outputs": [],
   "source": [
    "import itertools\n",
    "\n",
    "def chunks(iterable, batch_size=100):  \n",
    "    it = iter(iterable)\n",
    "    chunk = list(itertools.islice(it, batch_size))\n",
    "    while chunk:\n",
    "        yield chunk\n",
    "        chunk = list(itertools.islice(it, batch_size))\n",
    "\n",
    "for vectors_chunk in chunks(vectors, batch_size=100):  \n",
    "    index.upsert(vectors=vectors_chunk)"
   ]
  }
 ],
 "metadata": {
  "kernelspec": {
   "display_name": "map",
   "language": "python",
   "name": "python3"
  },
  "language_info": {
   "codemirror_mode": {
    "name": "ipython",
    "version": 3
   },
   "file_extension": ".py",
   "mimetype": "text/x-python",
   "name": "python",
   "nbconvert_exporter": "python",
   "pygments_lexer": "ipython3",
   "version": "3.10.12"
  }
 },
 "nbformat": 4,
 "nbformat_minor": 5
}
