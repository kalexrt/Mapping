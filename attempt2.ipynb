{
 "cells": [
  {
   "cell_type": "code",
   "execution_count": null,
   "id": "cdf8e88f",
   "metadata": {},
   "outputs": [],
   "source": [
    "import psycopg2\n",
    "import pandas as pd\n",
    "\n",
    "# Database connection parameters - update these!\n",
    "DB_HOST = 'localhost'\n",
    "DB_PORT = 5432  # default PostgreSQL port\n",
    "DB_NAME = 'eduphoric'\n",
    "DB_USER = 'postgres'\n",
    "DB_PASS = 'password'"
   ]
  },
  {
   "cell_type": "code",
   "execution_count": 2,
   "id": "4d033a73",
   "metadata": {},
   "outputs": [],
   "source": [
    "QUERY = \"\"\"\n",
    "SELECT\n",
    "  c.table_name,\n",
    "  obj_description(cls.oid) AS table_comment,\n",
    "  c.column_name,\n",
    "  pgd.description AS column_comment,\n",
    "  c.data_type\n",
    "FROM\n",
    "  information_schema.columns c\n",
    "JOIN\n",
    "  pg_catalog.pg_class cls ON cls.relname = c.table_name\n",
    "    AND cls.relkind = 'r'\n",
    "LEFT JOIN\n",
    "  pg_catalog.pg_description pgd ON pgd.objoid = cls.oid AND pgd.objsubid = c.ordinal_position\n",
    "WHERE\n",
    "  c.table_schema NOT IN ('pg_catalog', 'information_schema')\n",
    "ORDER BY\n",
    "  c.table_schema,\n",
    "  c.table_name,\n",
    "  c.ordinal_position;\n",
    "\"\"\""
   ]
  },
  {
   "cell_type": "code",
   "execution_count": 3,
   "id": "956415e6",
   "metadata": {},
   "outputs": [],
   "source": [
    "conn = psycopg2.connect(\n",
    "            host=DB_HOST,\n",
    "            port=DB_PORT,\n",
    "            dbname=DB_NAME,\n",
    "            user=DB_USER,\n",
    "            password=DB_PASS\n",
    "        )"
   ]
  },
  {
   "cell_type": "code",
   "execution_count": 4,
   "id": "30f942d2",
   "metadata": {},
   "outputs": [
    {
     "name": "stderr",
     "output_type": "stream",
     "text": [
      "/tmp/ipykernel_23465/2469420858.py:1: UserWarning: pandas only supports SQLAlchemy connectable (engine/connection) or database string URI or sqlite3 DBAPI2 connection. Other DBAPI2 objects are not tested. Please consider using SQLAlchemy.\n",
      "  df = pd.read_sql_query(QUERY, conn)\n"
     ]
    }
   ],
   "source": [
    "df = pd.read_sql_query(QUERY, conn)"
   ]
  },
  {
   "cell_type": "code",
   "execution_count": 5,
   "id": "6432f5e3",
   "metadata": {},
   "outputs": [
    {
     "data": {
      "text/html": [
       "<div>\n",
       "<style scoped>\n",
       "    .dataframe tbody tr th:only-of-type {\n",
       "        vertical-align: middle;\n",
       "    }\n",
       "\n",
       "    .dataframe tbody tr th {\n",
       "        vertical-align: top;\n",
       "    }\n",
       "\n",
       "    .dataframe thead th {\n",
       "        text-align: right;\n",
       "    }\n",
       "</style>\n",
       "<table border=\"1\" class=\"dataframe\">\n",
       "  <thead>\n",
       "    <tr style=\"text-align: right;\">\n",
       "      <th></th>\n",
       "      <th>table_name</th>\n",
       "      <th>table_comment</th>\n",
       "      <th>column_name</th>\n",
       "      <th>column_comment</th>\n",
       "      <th>data_type</th>\n",
       "    </tr>\n",
       "  </thead>\n",
       "  <tbody>\n",
       "    <tr>\n",
       "      <th>0</th>\n",
       "      <td>absenceeventcategorydescriptor</td>\n",
       "      <td>This descriptor describes the type of absence</td>\n",
       "      <td>absenceeventcategorydescriptorid</td>\n",
       "      <td>A unique identifier used as Primary Key, not d...</td>\n",
       "      <td>integer</td>\n",
       "    </tr>\n",
       "    <tr>\n",
       "      <th>1</th>\n",
       "      <td>academichonorcategorydescriptor</td>\n",
       "      <td>A designation of the type of academic distinct...</td>\n",
       "      <td>academichonorcategorydescriptorid</td>\n",
       "      <td>A unique identifier used as Primary Key, not d...</td>\n",
       "      <td>integer</td>\n",
       "    </tr>\n",
       "    <tr>\n",
       "      <th>2</th>\n",
       "      <td>academicsubjectdescriptor</td>\n",
       "      <td>This descriptor holds the description of the c...</td>\n",
       "      <td>academicsubjectdescriptorid</td>\n",
       "      <td>A unique identifier used as Primary Key, not d...</td>\n",
       "      <td>integer</td>\n",
       "    </tr>\n",
       "    <tr>\n",
       "      <th>3</th>\n",
       "      <td>academicweek</td>\n",
       "      <td>This entity represents the academic weeks for ...</td>\n",
       "      <td>schoolid</td>\n",
       "      <td>The identifier assigned to a school. It must b...</td>\n",
       "      <td>bigint</td>\n",
       "    </tr>\n",
       "    <tr>\n",
       "      <th>4</th>\n",
       "      <td>academicweek</td>\n",
       "      <td>This entity represents the academic weeks for ...</td>\n",
       "      <td>weekidentifier</td>\n",
       "      <td>The school label for the week.</td>\n",
       "      <td>character varying</td>\n",
       "    </tr>\n",
       "  </tbody>\n",
       "</table>\n",
       "</div>"
      ],
      "text/plain": [
       "                        table_name  \\\n",
       "0   absenceeventcategorydescriptor   \n",
       "1  academichonorcategorydescriptor   \n",
       "2        academicsubjectdescriptor   \n",
       "3                     academicweek   \n",
       "4                     academicweek   \n",
       "\n",
       "                                       table_comment  \\\n",
       "0      This descriptor describes the type of absence   \n",
       "1  A designation of the type of academic distinct...   \n",
       "2  This descriptor holds the description of the c...   \n",
       "3  This entity represents the academic weeks for ...   \n",
       "4  This entity represents the academic weeks for ...   \n",
       "\n",
       "                         column_name  \\\n",
       "0   absenceeventcategorydescriptorid   \n",
       "1  academichonorcategorydescriptorid   \n",
       "2        academicsubjectdescriptorid   \n",
       "3                           schoolid   \n",
       "4                     weekidentifier   \n",
       "\n",
       "                                      column_comment          data_type  \n",
       "0  A unique identifier used as Primary Key, not d...            integer  \n",
       "1  A unique identifier used as Primary Key, not d...            integer  \n",
       "2  A unique identifier used as Primary Key, not d...            integer  \n",
       "3  The identifier assigned to a school. It must b...             bigint  \n",
       "4                     The school label for the week.  character varying  "
      ]
     },
     "execution_count": 5,
     "metadata": {},
     "output_type": "execute_result"
    }
   ],
   "source": [
    "df.head()"
   ]
  },
  {
   "cell_type": "code",
   "execution_count": 6,
   "id": "575e14b4",
   "metadata": {},
   "outputs": [
    {
     "data": {
      "text/plain": [
       "4637"
      ]
     },
     "execution_count": 6,
     "metadata": {},
     "output_type": "execute_result"
    }
   ],
   "source": [
    "len(df)"
   ]
  },
  {
   "cell_type": "code",
   "execution_count": 7,
   "id": "842ef940",
   "metadata": {},
   "outputs": [],
   "source": [
    "input1_df = pd.read_csv('io_2/Grand Prairie- ACT.csv')\n",
    "input2_df = pd.read_csv('io_2/Grand Prairie- SAT.csv')"
   ]
  },
  {
   "cell_type": "code",
   "execution_count": 8,
   "id": "719d3322",
   "metadata": {},
   "outputs": [
    {
     "data": {
      "text/plain": [
       "True"
      ]
     },
     "execution_count": 8,
     "metadata": {},
     "output_type": "execute_result"
    }
   ],
   "source": [
    "from dotenv import load_dotenv\n",
    "import boto3\n",
    "\n",
    "load_dotenv()"
   ]
  },
  {
   "cell_type": "code",
   "execution_count": 9,
   "id": "b25135aa",
   "metadata": {},
   "outputs": [
    {
     "name": "stdout",
     "output_type": "stream",
     "text": [
      "EdFi data standard version 5.2 was released in 2023. However, for the exact release date, I recommend checking the official EdFi Alliance website or documentation, as I want to be precise about the specific month or day of release.\n"
     ]
    }
   ],
   "source": [
    "runtime = boto3.client(\"bedrock-runtime\")\n",
    "\n",
    "response = runtime.converse(\n",
    "    modelId=\"arn:aws:bedrock:us-east-1:654654390449:application-inference-profile/xjq2nc32nzby\",\n",
    "    messages=[{\"role\": \"user\", \"content\": [{\"text\": \"when did EdFi data standard version 5.2 come out\"}]}]\n",
    ")\n",
    "print(response[\"output\"][\"message\"][\"content\"][0][\"text\"])"
   ]
  },
  {
   "cell_type": "code",
   "execution_count": 10,
   "id": "14c4682c",
   "metadata": {},
   "outputs": [],
   "source": [
    "def df_to_markdown_table(df: pd.DataFrame) -> str:\n",
    "    if df.empty:\n",
    "        return \"No results found.\"\n",
    "\n",
    "    headers = df.columns.tolist()\n",
    "    md_table = \"| \" + \" | \".join(headers) + \" |\\n\"\n",
    "    md_table += \"|\" + \"|\".join([\"---\"] * len(headers)) + \"|\\n\"\n",
    "\n",
    "    for row in df.itertuples(index=False, name=None):\n",
    "        md_table += \"| \" + \" | \".join(map(str, row)) + \" |\\n\"\n",
    "\n",
    "    return md_table"
   ]
  },
  {
   "cell_type": "code",
   "execution_count": 11,
   "id": "5c384283",
   "metadata": {},
   "outputs": [
    {
     "name": "stdout",
     "output_type": "stream",
     "text": [
      "| Field | Description | Sample |\n",
      "|---|---|---|\n",
      "| ACT ID | Unique ACT student identifier | 999999999 |\n",
      "| Last Name | Student’s last name | LAST |\n",
      "| First Name | Student’s first name | FIRST |\n",
      "| Middle Initial | Student’s middle name initial | M |\n",
      "| Last Updated (CT) | Date the student’s test record was last updated (Central Time) | 3/24/2025 |\n",
      "| Test Date | Date the ACT test was taken | 25-Mar |\n",
      "| DOB | Student’s date of birth | 2/18/2008 |\n",
      "| ACT composite score | Overall ACT composite score (average of all sections) | 15 |\n",
      "| ACT math score | Score on the Math section of the ACT | 16 |\n",
      "| ACT science score | Score on the Science section of the ACT | 17 |\n",
      "| ACT STEM score | Combined Math and Science score representing STEM readiness | 17 |\n",
      "| ACT English score | Score on the English section of the ACT | 15 |\n",
      "| ACT reading score | Score on the Reading section of the ACT | 12 |\n",
      "| State Org Number | State-level organization code | 4925506 |\n",
      "| District Org Number | District-level organization code | 4835584 |\n",
      "| School Org Number | School-level organization code | 440943 |\n",
      "\n"
     ]
    }
   ],
   "source": [
    "print(df_to_markdown_table(input1_df[['Field', 'Description', 'Sample']]))\n"
   ]
  },
  {
   "cell_type": "code",
   "execution_count": 24,
   "id": "dffbf45e",
   "metadata": {},
   "outputs": [
    {
     "name": "stdout",
     "output_type": "stream",
     "text": [
      "| Field | Description | Sample |\n",
      "|---|---|---|\n",
      "| SID | Student internal system ID | 1000000000 |\n",
      "| TX Unique Student ID | State-assigned Texas unique student ID | 9999999999 |\n",
      "| Local ID | Local district-assigned student ID | 1 |\n",
      "| Last Name | Student’s last name | Last |\n",
      "| First Name | Student’s first name | First |\n",
      "| Grade Level | Student’s current grade | 12 |\n",
      "| Campus | Student’s campus name and code | (057910010) - John A Dubiski Career H S |\n",
      "| SAT Test Date | Date the SAT was taken | 10/5/2024 |\n",
      "| Total Score | Total SAT composite score | 1050 |\n",
      "| Evidence-Based Reading and Writing Section Score | Combined score for Reading and Writing & Language sections | 530 |\n",
      "| Math Test Score | Overall Math section score | 520 |\n",
      "| Reading Test Score | Score for the Reading subsection | nan |\n",
      "| Writing and Language Test Score | Score for the Writing and Language subsection | nan |\n",
      "| Math Test Score (Repeated) | Duplicate of Math Test Score field (possibly a formatting error) | nan |\n",
      "| Command of Evidence Sub Score | Subscore for interpreting and using evidence in reading/writing | nan |\n",
      "| Relevant Words in Context Sub Score | Subscore for understanding vocabulary in context | nan |\n",
      "| Expression of Ideas Sub Score | Subscore for idea development and organization in writing | nan |\n",
      "| Standard English Conventions Sub Score | Subscore for grammar, usage, and punctuation | nan |\n",
      "| Heart of Algebra Sub Score | Subscore for linear equations and systems (math) | nan |\n",
      "| Problem Solving and Data Analysis Sub Score | Subscore for problem solving and interpreting data (math) | nan |\n",
      "| Passport to Advanced Mathematics Sub Score | Subscore for complex equations and functions (math) | nan |\n",
      "| Analysis in History/Soc Studies Cross-Test Score | Score for reading and analyzing history/social studies content across sections | nan |\n",
      "| Analysis in Science Cross-Test Score | Score for reading and analyzing science content across sections | nan |\n",
      "\n"
     ]
    }
   ],
   "source": [
    "print(df_to_markdown_table(input2_df[['Field', 'Description', 'Sample']]))"
   ]
  },
  {
   "cell_type": "code",
   "execution_count": 12,
   "id": "bfa2cccd",
   "metadata": {},
   "outputs": [],
   "source": [
    "import re\n",
    "import ast\n",
    "\n",
    "def parse_llm_response_method(response_text):\n",
    "    list_match = re.search(r'\\[.*\\]', response_text, re.DOTALL)\n",
    "    if list_match:\n",
    "        list_str = list_match.group(0)\n",
    "        try:\n",
    "            return ast.literal_eval(list_str)\n",
    "        except (ValueError, SyntaxError) as e:\n",
    "            print(f\"AST parsing failed: {e}\")\n",
    "            return None\n",
    "    return None"
   ]
  },
  {
   "cell_type": "code",
   "execution_count": null,
   "id": "c85f2984",
   "metadata": {},
   "outputs": [],
   "source": [
    "def call_llm(input_df, df_chunk):\n",
    "    \n",
    "    md_input = df_to_markdown_table(input_df[['Field', 'Description', 'Sample']])\n",
    "    md_reference = df_to_markdown_table(df_chunk[['table_name', 'table_comment', 'column_name', 'column_comment', 'data_type']])\n",
    "    \n",
    "    prompt = f\"\"\"\n",
    "    For each field, description and sample below, find a matching table_name and column_name from the provided chunk, use the description, data type for this.\n",
    "    If you are not confident leave it blank.\n",
    "    \n",
    "    Table is:\n",
    "    {md_input}\n",
    "\n",
    "    Chunk:\n",
    "    {md_reference}\n",
    "    Return as a list of dicts: field, mapped_table, mapped_column.\n",
    "\n",
    "    If you cannot find a match, return an empty string for mapped_table and mapped_column.\n",
    "\n",
    "    Example output:\n",
    "    [\n",
    "        {{'field': 'Field1', 'mapped_table': 'table1', 'mapped_column': 'column1'}},\n",
    "        {{'field': 'Field2', 'mapped_table': '', 'mapped_column': ''}}\n",
    "    ]\n",
    "    \"\"\"\n",
    "\n",
    "    # response = runtime.converse(\n",
    "    #     modelId=\"arn:aws:bedrock:us-east-1:654654390449:application-inference-profile/s0naya29upmr\",\n",
    "    #     messages=[{\"role\": \"user\", \"content\": [{\"text\": prompt}]}]\n",
    "    # )\n",
    "    response = runtime.converse(\n",
    "        modelId=\"arn:aws:bedrock:us-east-1:654654390449:application-inference-profile/xjq2nc32nzby\",\n",
    "        messages=[{\"role\": \"user\", \"content\": [{\"text\": prompt}]}]\n",
    "    )\n",
    "    parsed_reponse = parse_llm_response_method(response[\"output\"][\"message\"][\"content\"][0][\"text\"])\n",
    "    return parsed_reponse if parsed_reponse else []"
   ]
  },
  {
   "cell_type": "code",
   "execution_count": 14,
   "id": "0c105dc9",
   "metadata": {},
   "outputs": [
    {
     "name": "stdout",
     "output_type": "stream",
     "text": [
      "Index(['Field', 'Description', 'Identity', 'Required', 'Sample', 'Format'], dtype='object')\n"
     ]
    }
   ],
   "source": [
    "print(input1_df.columns)"
   ]
  },
  {
   "cell_type": "code",
   "execution_count": 15,
   "id": "98c1495e",
   "metadata": {},
   "outputs": [
    {
     "name": "stdout",
     "output_type": "stream",
     "text": [
      "Index(['table_name', 'table_comment', 'column_name', 'column_comment',\n",
      "       'data_type'],\n",
      "      dtype='object')\n"
     ]
    }
   ],
   "source": [
    "print(df.iloc[0:100].columns)"
   ]
  },
  {
   "cell_type": "code",
   "execution_count": 16,
   "id": "374c6951",
   "metadata": {},
   "outputs": [
    {
     "data": {
      "text/plain": [
       "[{'field': 'ACT ID', 'mapped_table': '', 'mapped_column': ''},\n",
       " {'field': 'Last Name', 'mapped_table': '', 'mapped_column': ''},\n",
       " {'field': 'First Name', 'mapped_table': '', 'mapped_column': ''},\n",
       " {'field': 'Middle Initial', 'mapped_table': '', 'mapped_column': ''},\n",
       " {'field': 'Last Updated (CT)',\n",
       "  'mapped_table': 'assessment',\n",
       "  'mapped_column': 'lastmodifieddate'},\n",
       " {'field': 'Test Date',\n",
       "  'mapped_table': 'assessmentadministration',\n",
       "  'mapped_column': 'administrationidentifier'},\n",
       " {'field': 'DOB', 'mapped_table': '', 'mapped_column': ''},\n",
       " {'field': 'ACT composite score',\n",
       "  'mapped_table': 'assessment',\n",
       "  'mapped_column': 'maxrawscore'},\n",
       " {'field': 'ACT math score',\n",
       "  'mapped_table': 'assessmentacademicsubject',\n",
       "  'mapped_column': 'academicsubjectdescriptorid'},\n",
       " {'field': 'ACT science score',\n",
       "  'mapped_table': 'assessmentacademicsubject',\n",
       "  'mapped_column': 'academicsubjectdescriptorid'},\n",
       " {'field': 'ACT STEM score', 'mapped_table': '', 'mapped_column': ''},\n",
       " {'field': 'ACT English score',\n",
       "  'mapped_table': 'assessmentacademicsubject',\n",
       "  'mapped_column': 'academicsubjectdescriptorid'},\n",
       " {'field': 'ACT reading score',\n",
       "  'mapped_table': 'assessmentacademicsubject',\n",
       "  'mapped_column': 'academicsubjectdescriptorid'},\n",
       " {'field': 'State Org Number',\n",
       "  'mapped_table': 'assessment',\n",
       "  'mapped_column': 'educationorganizationid'},\n",
       " {'field': 'District Org Number',\n",
       "  'mapped_table': 'assessment',\n",
       "  'mapped_column': 'educationorganizationid'},\n",
       " {'field': 'School Org Number',\n",
       "  'mapped_table': 'assessment',\n",
       "  'mapped_column': 'educationorganizationid'}]"
      ]
     },
     "execution_count": 16,
     "metadata": {},
     "output_type": "execute_result"
    }
   ],
   "source": [
    "call_llm(input1_df, df.iloc[0:100])"
   ]
  },
  {
   "cell_type": "code",
   "execution_count": 17,
   "id": "3996f520",
   "metadata": {},
   "outputs": [],
   "source": [
    "def process_chunk_results(input_df, df, chunk_size=150):\n",
    "    \"\"\"\n",
    "    Process chunks and handle duplicate field mappings by creating \n",
    "    'possible other options' for fields that have multiple mappings.\n",
    "    \"\"\"\n",
    "    results = []\n",
    "    field_mappings = {}  # Track existing mappings for each field\n",
    "    \n",
    "    for i in range(0, len(df), chunk_size):\n",
    "        chunk = df.iloc[i:i + chunk_size]\n",
    "        dictionary = call_llm(input_df, chunk)\n",
    "        \n",
    "        # Process each mapping from this chunk\n",
    "        for mapping in dictionary:\n",
    "            field = mapping['field']\n",
    "            mapped_table = mapping['mapped_table']\n",
    "            mapped_column = mapping['mapped_column']\n",
    "            \n",
    "            # Skip if mapped_column is empty\n",
    "            if not mapped_column or mapped_column.strip() == '':\n",
    "                continue\n",
    "            \n",
    "            # Check if this field already exists in results\n",
    "            if field in field_mappings:\n",
    "                # Field already exists, add to possible other options\n",
    "                existing_idx = field_mappings[field]['index']\n",
    "                \n",
    "                # Initialize 'possible_other_options' if it doesn't exist\n",
    "                if 'possible_other_options' not in results[existing_idx]:\n",
    "                    results[existing_idx]['possible_other_options'] = []\n",
    "                \n",
    "                # Add the new mapping as a tuple (table_name, column_name)\n",
    "                new_option = (mapped_table, mapped_column)\n",
    "                if new_option not in results[existing_idx]['possible_other_options']:\n",
    "                    results[existing_idx]['possible_other_options'].append(new_option)\n",
    "            else:\n",
    "                # First time seeing this field, add it to results\n",
    "                new_entry = {\n",
    "                    'field': field,\n",
    "                    'mapped_table': mapped_table,\n",
    "                    'mapped_column': mapped_column\n",
    "                }\n",
    "                results.append(new_entry)\n",
    "                \n",
    "                # Track this field and its index in results\n",
    "                field_mappings[field] = {\n",
    "                    'index': len(results) - 1,\n",
    "                    'table': mapped_table,\n",
    "                    'column': mapped_column\n",
    "                }\n",
    "    \n",
    "    return results"
   ]
  },
  {
   "cell_type": "code",
   "execution_count": 18,
   "id": "3c7fc28a",
   "metadata": {},
   "outputs": [],
   "source": [
    "result = process_chunk_results(input2_df, df, chunk_size=200)"
   ]
  },
  {
   "cell_type": "code",
   "execution_count": 19,
   "id": "9b9f22d5",
   "metadata": {},
   "outputs": [
    {
     "data": {
      "text/plain": [
       "[{'field': 'Grade Level',\n",
       "  'mapped_table': 'assessment',\n",
       "  'mapped_column': 'assessedgradelevel',\n",
       "  'possible_other_options': [('bellschedulegradelevel',\n",
       "    'gradeleveldescriptorid'),\n",
       "   ('courseofferedgradelevel', 'gradeleveldescriptorid'),\n",
       "   ('credentialgradelevel', 'gradeleveldescriptorid'),\n",
       "   ('educationcontentappropriategradelevel', 'gradeleveldescriptorid'),\n",
       "   ('gradeleveldescriptor', 'gradeleveldescriptorid'),\n",
       "   ('interventionappropriategradelevel', 'gradeleveldescriptorid'),\n",
       "   ('learningstandardgradelevel', 'gradeleveldescriptorid'),\n",
       "   ('openstaffpositioninstructionalgradelevel', 'gradeleveldescriptorid'),\n",
       "   ('sectionofferedgradelevel', 'gradeleveldescriptorid'),\n",
       "   ('studentassessment', 'whenassessedgradeleveldescriptorid'),\n",
       "   ('studentassessmentregistration', 'assessmentgradeleveldescriptorid'),\n",
       "   ('studentschoolassociation', 'gradelevel')]},\n",
       " {'field': 'SAT Test Date',\n",
       "  'mapped_table': 'assessmentadministrationperiod',\n",
       "  'mapped_column': 'begindate',\n",
       "  'possible_other_options': [('assessmentperiod', 'begindate'),\n",
       "   ('gradingperiod', 'begindate'),\n",
       "   ('studentassessment', 'administrationdate'),\n",
       "   ('studentassessmentstudentobjectiveassessment', 'administrationdate'),\n",
       "   ('studentindicator', 'tookelasatexam')]},\n",
       " {'field': 'Total Score',\n",
       "  'mapped_table': 'assessment',\n",
       "  'mapped_column': 'maxrawscore',\n",
       "  'possible_other_options': [('assessmentscore', 'maximumscore'),\n",
       "   ('graduationplanrequiredassessmentscore', 'maximumscore'),\n",
       "   ('objectiveassessment', 'maxrawscore'),\n",
       "   ('objectiveassessmentscore', 'maximumscore'),\n",
       "   ('studentassessment', 'result'),\n",
       "   ('studentassessmentscoreresult', 'result')]},\n",
       " {'field': 'Evidence-Based Reading and Writing Section Score',\n",
       "  'mapped_table': 'assessment',\n",
       "  'mapped_column': 'maxrawscore',\n",
       "  'possible_other_options': [('assessmentscore', 'maximumscore'),\n",
       "   ('graduationplanrequiredassessmentscore', 'maximumscore'),\n",
       "   ('objectiveassessment', 'maxrawscore'),\n",
       "   ('objectiveassessmentassessmentitem', 'assessmentitemidentificationcode'),\n",
       "   ('studentassessmentitem', 'rawscoreresult'),\n",
       "   ('studentassessmentstudentobjectiveassessmentscoreresult', 'result')]},\n",
       " {'field': 'Math Test Score',\n",
       "  'mapped_table': 'assessment',\n",
       "  'mapped_column': 'maxrawscore',\n",
       "  'possible_other_options': [('assessmentscore', 'maximumscore'),\n",
       "   ('graduationplanrequiredassessmentscore', 'maximumscore'),\n",
       "   ('objectiveassessment', 'maxrawscore'),\n",
       "   ('objectiveassessmentassessmentitem', 'assessmentitemidentificationcode'),\n",
       "   ('studentassessmentitem', 'rawscoreresult'),\n",
       "   ('studentassessmentstudentobjectiveassessmentscoreresult', 'result'),\n",
       "   ('studentindicator', 'tookmathsatexam'),\n",
       "   ('task', 'studentuniqueid')]},\n",
       " {'field': 'Reading Test Score',\n",
       "  'mapped_table': 'assessment',\n",
       "  'mapped_column': 'maxrawscore',\n",
       "  'possible_other_options': [('assessmentscore', 'maximumscore'),\n",
       "   ('graduationplanrequiredassessmentscore', 'maximumscore'),\n",
       "   ('objectiveassessment', 'maxrawscore'),\n",
       "   ('objectiveassessmentassessmentitem', 'assessmentitemidentificationcode'),\n",
       "   ('studentassessmentitem', 'rawscoreresult'),\n",
       "   ('studentassessmentstudentobjectiveassessmentscoreresult', 'result')]},\n",
       " {'field': 'Writing and Language Test Score',\n",
       "  'mapped_table': 'assessment',\n",
       "  'mapped_column': 'maxrawscore',\n",
       "  'possible_other_options': [('assessmentscore', 'maximumscore'),\n",
       "   ('graduationplanrequiredassessmentscore', 'maximumscore'),\n",
       "   ('objectiveassessment', 'maxrawscore'),\n",
       "   ('objectiveassessmentassessmentitem', 'assessmentitemidentificationcode'),\n",
       "   ('studentassessmentitem', 'rawscoreresult'),\n",
       "   ('studentassessmentstudentobjectiveassessmentscoreresult', 'result')]},\n",
       " {'field': 'Math Test Score (Repeated)',\n",
       "  'mapped_table': 'assessment',\n",
       "  'mapped_column': 'maxrawscore',\n",
       "  'possible_other_options': [('assessmentscore', 'maximumscore'),\n",
       "   ('graduationplanrequiredassessmentscore', 'maximumscore'),\n",
       "   ('objectiveassessment', 'maxrawscore'),\n",
       "   ('objectiveassessmentassessmentitem', 'assessmentitemidentificationcode'),\n",
       "   ('studentassessmentitem', 'rawscoreresult'),\n",
       "   ('studentassessmentstudentobjectiveassessmentscoreresult', 'result')]},\n",
       " {'field': 'Command of Evidence Sub Score',\n",
       "  'mapped_table': 'assessmentitem',\n",
       "  'mapped_column': 'maxrawscore',\n",
       "  'possible_other_options': [('assessmentscorerangelearningstandard',\n",
       "    'maximumscore'),\n",
       "   ('graduationplanrequiredassessmentperformancelevel',\n",
       "    'performanceleveldescriptorid'),\n",
       "   ('objectiveassessment', 'maxrawscore'),\n",
       "   ('objectiveassessmentlearningstandard', 'learningstandardid'),\n",
       "   ('studentassessmentperformancelevel', 'performanceleveldescriptorid'),\n",
       "   ('studentassessmentstudentobjectiveassessmentscoreresult', 'result')]},\n",
       " {'field': 'Relevant Words in Context Sub Score',\n",
       "  'mapped_table': 'assessmentitem',\n",
       "  'mapped_column': 'maxrawscore',\n",
       "  'possible_other_options': [('assessmentscorerangelearningstandard',\n",
       "    'maximumscore'),\n",
       "   ('graduationplanrequiredassessmentperformancelevel',\n",
       "    'performanceleveldescriptorid'),\n",
       "   ('objectiveassessment', 'maxrawscore'),\n",
       "   ('objectiveassessmentlearningstandard', 'learningstandardid'),\n",
       "   ('studentassessmentperformancelevel', 'performanceleveldescriptorid'),\n",
       "   ('studentassessmentstudentobjectiveassessmentscoreresult', 'result')]},\n",
       " {'field': 'Expression of Ideas Sub Score',\n",
       "  'mapped_table': 'assessmentitem',\n",
       "  'mapped_column': 'maxrawscore',\n",
       "  'possible_other_options': [('assessmentscorerangelearningstandard',\n",
       "    'maximumscore'),\n",
       "   ('graduationplanrequiredassessmentperformancelevel',\n",
       "    'performanceleveldescriptorid'),\n",
       "   ('objectiveassessment', 'maxrawscore'),\n",
       "   ('objectiveassessmentlearningstandard', 'learningstandardid'),\n",
       "   ('studentassessmentperformancelevel', 'performanceleveldescriptorid'),\n",
       "   ('studentassessmentstudentobjectiveassessmentscoreresult', 'result')]},\n",
       " {'field': 'Standard English Conventions Sub Score',\n",
       "  'mapped_table': 'assessmentitem',\n",
       "  'mapped_column': 'maxrawscore',\n",
       "  'possible_other_options': [('assessmentscorerangelearningstandard',\n",
       "    'maximumscore'),\n",
       "   ('graduationplanrequiredassessmentperformancelevel',\n",
       "    'performanceleveldescriptorid'),\n",
       "   ('objectiveassessment', 'maxrawscore'),\n",
       "   ('objectiveassessmentlearningstandard', 'learningstandardid'),\n",
       "   ('studentassessmentperformancelevel', 'performanceleveldescriptorid'),\n",
       "   ('studentassessmentstudentobjectiveassessmentscoreresult', 'result')]},\n",
       " {'field': 'Heart of Algebra Sub Score',\n",
       "  'mapped_table': 'assessmentitem',\n",
       "  'mapped_column': 'maxrawscore',\n",
       "  'possible_other_options': [('assessmentscorerangelearningstandard',\n",
       "    'maximumscore'),\n",
       "   ('graduationplanrequiredassessmentperformancelevel',\n",
       "    'performanceleveldescriptorid'),\n",
       "   ('objectiveassessment', 'maxrawscore'),\n",
       "   ('objectiveassessmentlearningstandard', 'learningstandardid'),\n",
       "   ('studentassessmentperformancelevel', 'performanceleveldescriptorid'),\n",
       "   ('studentassessmentstudentobjectiveassessmentscoreresult', 'result')]},\n",
       " {'field': 'Problem Solving and Data Analysis Sub Score',\n",
       "  'mapped_table': 'assessmentitem',\n",
       "  'mapped_column': 'maxrawscore',\n",
       "  'possible_other_options': [('assessmentscorerangelearningstandard',\n",
       "    'maximumscore'),\n",
       "   ('graduationplanrequiredassessmentperformancelevel',\n",
       "    'performanceleveldescriptorid'),\n",
       "   ('objectiveassessment', 'maxrawscore'),\n",
       "   ('objectiveassessmentlearningstandard', 'learningstandardid'),\n",
       "   ('studentassessmentperformancelevel', 'performanceleveldescriptorid'),\n",
       "   ('studentassessmentstudentobjectiveassessmentscoreresult', 'result')]},\n",
       " {'field': 'Passport to Advanced Mathematics Sub Score',\n",
       "  'mapped_table': 'assessmentitem',\n",
       "  'mapped_column': 'maxrawscore',\n",
       "  'possible_other_options': [('assessmentscorerangelearningstandard',\n",
       "    'maximumscore'),\n",
       "   ('graduationplanrequiredassessmentperformancelevel',\n",
       "    'performanceleveldescriptorid'),\n",
       "   ('objectiveassessment', 'maxrawscore'),\n",
       "   ('objectiveassessmentlearningstandard', 'learningstandardid'),\n",
       "   ('studentassessmentperformancelevel', 'performanceleveldescriptorid'),\n",
       "   ('studentassessmentstudentobjectiveassessmentscoreresult', 'result')]},\n",
       " {'field': 'Analysis in History/Soc Studies Cross-Test Score',\n",
       "  'mapped_table': 'assessmentitem',\n",
       "  'mapped_column': 'maxrawscore',\n",
       "  'possible_other_options': [('assessmentscorerangelearningstandard',\n",
       "    'maximumscore'),\n",
       "   ('graduationplanrequiredassessmentscore', 'maximumscore'),\n",
       "   ('objectiveassessment', 'maxrawscore'),\n",
       "   ('objectiveassessmentlearningstandard', 'learningstandardid'),\n",
       "   ('studentassessmentperformancelevel', 'performanceleveldescriptorid'),\n",
       "   ('studentassessmentstudentobjectiveassessmentscoreresult', 'result')]},\n",
       " {'field': 'Analysis in Science Cross-Test Score',\n",
       "  'mapped_table': 'assessmentitem',\n",
       "  'mapped_column': 'maxrawscore',\n",
       "  'possible_other_options': [('assessmentscorerangelearningstandard',\n",
       "    'maximumscore'),\n",
       "   ('graduationplanrequiredassessmentscore', 'maximumscore'),\n",
       "   ('objectiveassessment', 'maxrawscore'),\n",
       "   ('objectiveassessmentlearningstandard', 'learningstandardid'),\n",
       "   ('studentassessmentperformancelevel', 'performanceleveldescriptorid'),\n",
       "   ('studentassessmentstudentobjectiveassessmentscoreresult', 'result')]},\n",
       " {'field': 'SID',\n",
       "  'mapped_table': 'contact',\n",
       "  'mapped_column': 'contactusi',\n",
       "  'possible_other_options': [('credentials', 'studentusi'),\n",
       "   ('dorf', 'studentusi'),\n",
       "   ('enrollments', 'studentusi'),\n",
       "   ('generalstudentprogramassociation', 'studentusi'),\n",
       "   ('staff', 'staffusi'),\n",
       "   ('student', 'studentusi'),\n",
       "   ('studentassessmentregistration', 'studentusi'),\n",
       "   ('studenteducationorganizationassociation', 'studentusi'),\n",
       "   ('studenteducationorganizationassociationstudentidentifica_c15030',\n",
       "    'studentusi'),\n",
       "   ('studentschoolassociation', 'studentusi'),\n",
       "   ('studentspecialeducationprogramassociation', 'studentusi'),\n",
       "   ('transcripts', 'studentusi')]},\n",
       " {'field': 'Last Name',\n",
       "  'mapped_table': 'contact',\n",
       "  'mapped_column': 'lastsurname',\n",
       "  'possible_other_options': [('disciplineincidentexternalparticipant',\n",
       "    'lastsurname'),\n",
       "   ('staff', 'lastsurname'),\n",
       "   ('student', 'lastsurname')]},\n",
       " {'field': 'First Name',\n",
       "  'mapped_table': 'contact',\n",
       "  'mapped_column': 'firstname',\n",
       "  'possible_other_options': [('disciplineincidentexternalparticipant',\n",
       "    'firstname'),\n",
       "   ('staff', 'firstname'),\n",
       "   ('staff', 'preferredfirstname'),\n",
       "   ('student', 'firstname')]},\n",
       " {'field': 'Local ID',\n",
       "  'mapped_table': 'dorf',\n",
       "  'mapped_column': 'identifier',\n",
       "  'possible_other_options': [('student', 'studentlocalid'),\n",
       "   ('studenteducationorganizationassociationstudentidentifica_c15030',\n",
       "    'identificationcode')]},\n",
       " {'field': 'Campus',\n",
       "  'mapped_table': 'enrollments',\n",
       "  'mapped_column': 'student_campus',\n",
       "  'possible_other_options': [('school', 'schoolid'),\n",
       "   ('studentassessmenteducationorganizationassociation',\n",
       "    'educationorganizationid'),\n",
       "   ('studentassessmentregistration', 'schoolid'),\n",
       "   ('studentschoolassociation', 'campusofaccountability')]},\n",
       " {'field': 'TX Unique Student ID',\n",
       "  'mapped_table': 'generalstudentprogramassociation',\n",
       "  'mapped_column': 'studentusi',\n",
       "  'possible_other_options': [('student', 'teaid'),\n",
       "   ('studentassessment', 'studentusi'),\n",
       "   ('studenteducationorganizationassociationstudentidentifica_c15030',\n",
       "    'identificationcode'),\n",
       "   ('studentschoolassociation', 'studentusi')]}]"
      ]
     },
     "execution_count": 19,
     "metadata": {},
     "output_type": "execute_result"
    }
   ],
   "source": [
    "result"
   ]
  },
  {
   "cell_type": "code",
   "execution_count": 20,
   "id": "a356606c",
   "metadata": {},
   "outputs": [],
   "source": [
    "def results_to_dataframe(results):\n",
    "    \"\"\"Convert results to a pandas DataFrame\"\"\"\n",
    "    df_data = []\n",
    "    for result in results:\n",
    "        row = {\n",
    "            'field': result['field'],\n",
    "            'mapped_table': result['mapped_table'],\n",
    "            'mapped_column': result['mapped_column'],\n",
    "            'possible_other_options': result.get('possible_other_options', [])\n",
    "        }\n",
    "        df_data.append(row)\n",
    "    \n",
    "    return pd.DataFrame(df_data)"
   ]
  },
  {
   "cell_type": "code",
   "execution_count": 21,
   "id": "ec4e0b99",
   "metadata": {},
   "outputs": [],
   "source": [
    "output_df = results_to_dataframe(result)"
   ]
  },
  {
   "cell_type": "code",
   "execution_count": 22,
   "id": "bec5a507",
   "metadata": {},
   "outputs": [
    {
     "data": {
      "text/plain": [
       "23"
      ]
     },
     "execution_count": 22,
     "metadata": {},
     "output_type": "execute_result"
    }
   ],
   "source": [
    "len(output_df)"
   ]
  },
  {
   "cell_type": "code",
   "execution_count": 23,
   "id": "e55fb76a",
   "metadata": {},
   "outputs": [],
   "source": [
    "output_df.to_csv('io_2/output - Grand SAT.csv', index=False)"
   ]
  }
 ],
 "metadata": {
  "kernelspec": {
   "display_name": "map",
   "language": "python",
   "name": "python3"
  },
  "language_info": {
   "codemirror_mode": {
    "name": "ipython",
    "version": 3
   },
   "file_extension": ".py",
   "mimetype": "text/x-python",
   "name": "python",
   "nbconvert_exporter": "python",
   "pygments_lexer": "ipython3",
   "version": "3.10.12"
  }
 },
 "nbformat": 4,
 "nbformat_minor": 5
}
